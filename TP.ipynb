{
 "cells": [
  {
   "cell_type": "markdown",
   "metadata": {},
   "source": [
    "## Imports"
   ]
  },
  {
   "cell_type": "code",
   "execution_count": null,
   "metadata": {
    "id": "C7i98HvId9tT",
    "jupyter": {
     "source_hidden": true
    },
    "tags": []
   },
   "outputs": [],
   "source": [
    "from Bibliotecas import *\n",
    "%matplotlib inline\n",
    "from Modelos import *\n",
    "from Comparador import *\n",
    "from ParameterTuning import *"
   ]
  },
  {
   "cell_type": "markdown",
   "metadata": {},
   "source": [
    "### Timing"
   ]
  },
  {
   "cell_type": "code",
   "execution_count": null,
   "metadata": {},
   "outputs": [],
   "source": [
    "inicio_ppio = time.time()"
   ]
  },
  {
   "cell_type": "markdown",
   "metadata": {
    "tags": []
   },
   "source": [
    "# Primeras pruebas con datos desbalanceados"
   ]
  },
  {
   "cell_type": "markdown",
   "metadata": {
    "tags": []
   },
   "source": [
    "Cargo datos desbalanceados"
   ]
  },
  {
   "cell_type": "code",
   "execution_count": null,
   "metadata": {},
   "outputs": [],
   "source": [
    "X_train = joblib.load('X_train.joblib')\n",
    "X_test = joblib.load('X_test.joblib')\n",
    "y_train = joblib.load('y_train.joblib')\n",
    "y_test = joblib.load('y_test.joblib')"
   ]
  },
  {
   "cell_type": "markdown",
   "metadata": {
    "tags": []
   },
   "source": [
    "## Entreno el Arbol de Decision (Gini Impurity)"
   ]
  },
  {
   "cell_type": "code",
   "execution_count": null,
   "metadata": {},
   "outputs": [],
   "source": [
    "dtGini_baseline = GiniDecisionTree(\n",
    "                          X_train=X_train, \n",
    "                          X_test=X_test, \n",
    "                          y_train=y_train, \n",
    "                          y_test=y_test, \n",
    "                          target=[0,1])\n",
    "dtGini_baseline.train()"
   ]
  },
  {
   "cell_type": "markdown",
   "metadata": {
    "tags": []
   },
   "source": [
    "### Medidas de performance"
   ]
  },
  {
   "cell_type": "markdown",
   "metadata": {},
   "source": [
    "#### Matriz de Confusion"
   ]
  },
  {
   "cell_type": "code",
   "execution_count": null,
   "metadata": {},
   "outputs": [],
   "source": [
    "dtGini_baseline.show_confusion_matrix()"
   ]
  },
  {
   "cell_type": "markdown",
   "metadata": {},
   "source": [
    "#### Reporte"
   ]
  },
  {
   "cell_type": "code",
   "execution_count": null,
   "metadata": {},
   "outputs": [],
   "source": [
    "dtGini_baseline.show_classification_report()"
   ]
  },
  {
   "cell_type": "markdown",
   "metadata": {},
   "source": [
    "#### Accuracy"
   ]
  },
  {
   "cell_type": "code",
   "execution_count": null,
   "metadata": {},
   "outputs": [],
   "source": [
    "dtGini_baseline.accuracy()"
   ]
  },
  {
   "cell_type": "markdown",
   "metadata": {},
   "source": [
    "#### Recall"
   ]
  },
  {
   "cell_type": "code",
   "execution_count": null,
   "metadata": {
    "scrolled": true
   },
   "outputs": [],
   "source": [
    "dtGini_baseline.recall()"
   ]
  },
  {
   "cell_type": "markdown",
   "metadata": {},
   "source": [
    "#### Precision Score"
   ]
  },
  {
   "cell_type": "code",
   "execution_count": null,
   "metadata": {
    "scrolled": true
   },
   "outputs": [],
   "source": [
    "dtGini_baseline.precision_score()"
   ]
  },
  {
   "cell_type": "markdown",
   "metadata": {},
   "source": [
    "#### F1 Score"
   ]
  },
  {
   "cell_type": "code",
   "execution_count": null,
   "metadata": {
    "scrolled": true
   },
   "outputs": [],
   "source": [
    "dtGini_baseline.f1_score()"
   ]
  },
  {
   "cell_type": "code",
   "execution_count": null,
   "metadata": {},
   "outputs": [],
   "source": [
    "dtGini_baseline.auc()"
   ]
  },
  {
   "cell_type": "markdown",
   "metadata": {},
   "source": [
    "### AUC (Area Under Curve) como métrica de evaluación"
   ]
  },
  {
   "cell_type": "code",
   "execution_count": null,
   "metadata": {},
   "outputs": [],
   "source": [
    "dtGini_baseline.roc_curve()"
   ]
  },
  {
   "cell_type": "markdown",
   "metadata": {},
   "source": [
    "### Impresion del Arbol"
   ]
  },
  {
   "cell_type": "code",
   "execution_count": null,
   "metadata": {},
   "outputs": [],
   "source": [
    "#dtGini_baseline.show_matrix()"
   ]
  },
  {
   "cell_type": "markdown",
   "metadata": {
    "tags": []
   },
   "source": [
    "# Entreno el Arbol de Decision (Information Gain)"
   ]
  },
  {
   "cell_type": "code",
   "execution_count": null,
   "metadata": {},
   "outputs": [],
   "source": [
    "dtInfoGain_baseline = InformationGainDecisionTree(\n",
    "                                                  X_train=X_train, \n",
    "                                                  X_test=X_test, \n",
    "                                                  y_train=y_train,\n",
    "                                                  y_test=y_test, \n",
    "                                                  target=[0,1])\n",
    "dtInfoGain_baseline.train()"
   ]
  },
  {
   "cell_type": "markdown",
   "metadata": {},
   "source": [
    "Prueba agregando \"dummies\" en lugar de fijar un número para cada valor de \"type\""
   ]
  },
  {
   "cell_type": "code",
   "execution_count": null,
   "metadata": {
    "tags": []
   },
   "outputs": [],
   "source": [
    "# #Hice una prueba agregando \"dummies\" en lugar de fijar un número para cada valor de \"type\"\n",
    "# df2 = pd.read_csv(\"./Fraud.csv\")\n",
    "# df2.drop(['nameOrig', 'nameDest'], axis=1, inplace=True)\n",
    "\n",
    "# #Getting Dummies from all other categorical vars\n",
    "# for col in df2.dtypes[df2.dtypes == 'object'].index:\n",
    "#     for_dummy = df2.pop(col)\n",
    "#     df2 = pd.concat([df2, pd.get_dummies(for_dummy, prefix=col)], axis=1)\n",
    "# X2 = df2.drop('isFraud',axis=1)\n",
    "# y2 = df2[['isFraud']]\n",
    "# X2_train, X2_test, y2_train, y2_test = train_test_split(X2, y2, test_size=0.2, random_state=42)\n",
    "# dtInfoGain2 = InformationGainDecisionTree(df2, X=X2, \n",
    "#                                         X_train=X2_train, \n",
    "#                                         X_test=X2_test, \n",
    "#                                         y_train=y2_train, \n",
    "#                                         y_test=y2_test, \n",
    "#                                         target=df2['isFraud'])\n",
    "# dtInfoGain2.train()\n",
    "# dtInfoGain2.show_classification_report()"
   ]
  },
  {
   "cell_type": "code",
   "execution_count": null,
   "metadata": {},
   "outputs": [],
   "source": [
    "# print(dtInfoGain2.auc())\n",
    "# dtGini_baseline.auc()"
   ]
  },
  {
   "cell_type": "markdown",
   "metadata": {
    "tags": []
   },
   "source": [
    "### Medidas de Performance"
   ]
  },
  {
   "cell_type": "markdown",
   "metadata": {},
   "source": [
    "#### Matriz de Confusion"
   ]
  },
  {
   "cell_type": "code",
   "execution_count": null,
   "metadata": {},
   "outputs": [],
   "source": [
    "dtInfoGain_baseline.show_confusion_matrix()"
   ]
  },
  {
   "cell_type": "markdown",
   "metadata": {},
   "source": [
    "#### Reporte"
   ]
  },
  {
   "cell_type": "code",
   "execution_count": null,
   "metadata": {},
   "outputs": [],
   "source": [
    "dtInfoGain_baseline.show_classification_report()"
   ]
  },
  {
   "cell_type": "markdown",
   "metadata": {},
   "source": [
    "#### Accuracy"
   ]
  },
  {
   "cell_type": "code",
   "execution_count": null,
   "metadata": {},
   "outputs": [],
   "source": [
    "dtInfoGain_baseline.accuracy()"
   ]
  },
  {
   "cell_type": "markdown",
   "metadata": {},
   "source": [
    "#### Recall"
   ]
  },
  {
   "cell_type": "code",
   "execution_count": null,
   "metadata": {
    "scrolled": true
   },
   "outputs": [],
   "source": [
    "dtInfoGain_baseline.recall()"
   ]
  },
  {
   "cell_type": "markdown",
   "metadata": {},
   "source": [
    "#### Precision"
   ]
  },
  {
   "cell_type": "code",
   "execution_count": null,
   "metadata": {
    "scrolled": true
   },
   "outputs": [],
   "source": [
    "dtInfoGain_baseline.precision_score()"
   ]
  },
  {
   "cell_type": "markdown",
   "metadata": {
    "tags": []
   },
   "source": [
    "### Impresion del Arbol"
   ]
  },
  {
   "cell_type": "code",
   "execution_count": null,
   "metadata": {},
   "outputs": [],
   "source": [
    "#dtInfoGain_baseline.show_matrix()"
   ]
  },
  {
   "cell_type": "markdown",
   "metadata": {},
   "source": [
    "### AUC (Area Under Curve) como métrica de evaluación"
   ]
  },
  {
   "cell_type": "code",
   "execution_count": null,
   "metadata": {},
   "outputs": [],
   "source": [
    "dtInfoGain_baseline.auc()"
   ]
  },
  {
   "cell_type": "code",
   "execution_count": null,
   "metadata": {},
   "outputs": [],
   "source": [
    "dtInfoGain_baseline.roc_curve()"
   ]
  },
  {
   "cell_type": "markdown",
   "metadata": {},
   "source": [
    "## Comparo parámetros para max_depth, min_samples_split y min_samples_leaf (baseline)"
   ]
  },
  {
   "cell_type": "code",
   "execution_count": null,
   "metadata": {},
   "outputs": [],
   "source": [
    "parameterTuning_InfoGain = ParameterTuning(decisionTreeCriterion=\"entropy\",\n",
    "                                            X_train=X_train,\n",
    "                                            X_test=X_test,\n",
    "                                            y_train=y_train,\n",
    "                                            y_test=y_test)\n",
    "\n",
    "infogain_best_max_depth_baseline = parameterTuning_InfoGain.get_best_max_depth(30)\n",
    "infogain_best_max_depth_baseline = ParameterTuning.list_only_parameters(infogain_best_max_depth_baseline)\n",
    "infogain_best_min_samples_split_baseline_1 = parameterTuning_InfoGain.get_best_min_samples_split()\n",
    "infogain_best_min_samples_split_baseline_2 = parameterTuning_InfoGain.get_best_min_samples_split(20)\n",
    "infogain_best_min_samples_split_baseline = ParameterTuning.get_best_result(infogain_best_min_samples_split_baseline_1, infogain_best_min_samples_split_baseline_2)\n",
    "infogain_best_min_samples_leaf_baseline_1 = parameterTuning_InfoGain.get_best_min_samples_leaf()\n",
    "infogain_best_min_samples_leaf_baseline_2 = parameterTuning_InfoGain.get_best_min_samples_leaf(20)\n",
    "infogain_best_min_samples_leaf_baseline = ParameterTuning.get_best_result(infogain_best_min_samples_leaf_baseline_1, infogain_best_min_samples_leaf_baseline_2)"
   ]
  },
  {
   "cell_type": "code",
   "execution_count": null,
   "metadata": {
    "scrolled": true
   },
   "outputs": [],
   "source": [
    "parameterTuning_Gini = ParameterTuning(decisionTreeCriterion=\"gini\",\n",
    "                                            X_train=X_train,\n",
    "                                            X_test=X_test,\n",
    "                                            y_train=y_train,\n",
    "                                            y_test=y_test)\n",
    "gini_best_max_depth_baseline = parameterTuning_Gini.get_best_max_depth(30)\n",
    "gini_best_max_depth_baseline = ParameterTuning.list_only_parameters(gini_best_max_depth_baseline)\n",
    "gini_best_min_samples_split_baseline_1 = parameterTuning_Gini.get_best_min_samples_split()\n",
    "gini_best_min_samples_split_baseline_2 = parameterTuning_Gini.get_best_min_samples_split(20)\n",
    "gini_best_min_samples_split_baseline = ParameterTuning.get_best_result(gini_best_min_samples_split_baseline_1, gini_best_min_samples_split_baseline_2)\n",
    "gini_best_min_samples_leaf_baseline_1 = parameterTuning_Gini.get_best_min_samples_leaf()\n",
    "gini_best_min_samples_leaf_baseline_2 = parameterTuning_Gini.get_best_min_samples_leaf(20)\n",
    "gini_best_min_samples_leaf_baseline = ParameterTuning.get_best_result(gini_best_min_samples_leaf_baseline_1, gini_best_min_samples_leaf_baseline_2)"
   ]
  },
  {
   "cell_type": "markdown",
   "metadata": {
    "tags": []
   },
   "source": [
    "# Pruebas con datos Balanceados"
   ]
  },
  {
   "cell_type": "markdown",
   "metadata": {
    "tags": []
   },
   "source": [
    "## Random undersampling"
   ]
  },
  {
   "cell_type": "markdown",
   "metadata": {},
   "source": [
    "Cargo datos de random undersampling"
   ]
  },
  {
   "cell_type": "code",
   "execution_count": null,
   "metadata": {},
   "outputs": [],
   "source": [
    "X_undersample_train = joblib.load('X_undersample_train.joblib')\n",
    "y_undersample_train = joblib.load('y_undersample_train.joblib')"
   ]
  },
  {
   "cell_type": "code",
   "execution_count": null,
   "metadata": {},
   "outputs": [],
   "source": [
    "len(X_undersample_train)"
   ]
  },
  {
   "cell_type": "code",
   "execution_count": null,
   "metadata": {},
   "outputs": [],
   "source": [
    "dtGini_undersample = GiniDecisionTree(\n",
    "                                      X_train=X_undersample_train, \n",
    "                                      X_test=X_test, # Para testear debe ser sobre el dataset original\n",
    "                                      y_train=y_undersample_train, \n",
    "                                      y_test=y_test, # Para testear debe ser sobre el dataset original\n",
    "                                      target=[0,1])\n",
    "dtGini_undersample.train()"
   ]
  },
  {
   "cell_type": "code",
   "execution_count": null,
   "metadata": {},
   "outputs": [],
   "source": [
    "dtGini_undersample.show_classification_report()\n",
    "dtGini_undersample.show_confusion_matrix()"
   ]
  },
  {
   "cell_type": "markdown",
   "metadata": {},
   "source": [
    "## Random oversampling"
   ]
  },
  {
   "cell_type": "markdown",
   "metadata": {},
   "source": [
    "Cargo datos de random oversampling"
   ]
  },
  {
   "cell_type": "code",
   "execution_count": null,
   "metadata": {},
   "outputs": [],
   "source": [
    "X_oversample_train = joblib.load('X_oversample_train.joblib')\n",
    "y_oversample_train = joblib.load('y_oversample_train.joblib')"
   ]
  },
  {
   "cell_type": "code",
   "execution_count": null,
   "metadata": {},
   "outputs": [],
   "source": [
    "dtGini_oversample = GiniDecisionTree( \n",
    "                                      X_train=X_oversample_train, \n",
    "                                      X_test=X_test, # Para testear debe ser sobre el dataset original\n",
    "                                      y_train=y_oversample_train, \n",
    "                                      y_test=y_test, # Para testear debe ser sobre el dataset original\n",
    "                                      target=[0,1])\n",
    "dtGini_oversample.train()"
   ]
  },
  {
   "cell_type": "code",
   "execution_count": null,
   "metadata": {},
   "outputs": [],
   "source": [
    "dtGini_oversample.show_classification_report()\n",
    "dtGini_oversample.show_confusion_matrix()"
   ]
  },
  {
   "cell_type": "markdown",
   "metadata": {},
   "source": [
    "## SMOTE"
   ]
  },
  {
   "cell_type": "markdown",
   "metadata": {},
   "source": [
    "Cargo datos de SMOTE"
   ]
  },
  {
   "cell_type": "code",
   "execution_count": null,
   "metadata": {},
   "outputs": [],
   "source": [
    "X_smote_train = joblib.load('X_smote_train.joblib')\n",
    "y_smote_train = joblib.load('y_smote_train.joblib')"
   ]
  },
  {
   "cell_type": "code",
   "execution_count": null,
   "metadata": {},
   "outputs": [],
   "source": [
    "dtGini_smote = GiniDecisionTree(\n",
    "                                  X_train=X_smote_train, \n",
    "                                  X_test=X_test, # Para testear debe ser sobre el dataset original\n",
    "                                  y_train=y_smote_train, \n",
    "                                  y_test=y_test, # Para testear debe ser sobre el dataset original\n",
    "                                  target=[0,1])\n",
    "dtGini_smote.train()"
   ]
  },
  {
   "cell_type": "code",
   "execution_count": null,
   "metadata": {},
   "outputs": [],
   "source": [
    "dtGini_smote.show_confusion_matrix()"
   ]
  },
  {
   "cell_type": "code",
   "execution_count": null,
   "metadata": {},
   "outputs": [],
   "source": [
    "dtGini_smote.show_classification_report()"
   ]
  },
  {
   "cell_type": "code",
   "execution_count": null,
   "metadata": {},
   "outputs": [],
   "source": [
    "dtGini_smote.accuracy()"
   ]
  },
  {
   "cell_type": "code",
   "execution_count": null,
   "metadata": {},
   "outputs": [],
   "source": [
    "dtGini_smote.precision_score()"
   ]
  },
  {
   "cell_type": "code",
   "execution_count": null,
   "metadata": {},
   "outputs": [],
   "source": [
    "dtGini_smote.recall()"
   ]
  },
  {
   "cell_type": "markdown",
   "metadata": {},
   "source": [
    "## Comparo parámetros para datos Balanceados"
   ]
  },
  {
   "cell_type": "markdown",
   "metadata": {},
   "source": [
    "### undersample"
   ]
  },
  {
   "cell_type": "code",
   "execution_count": null,
   "metadata": {},
   "outputs": [],
   "source": [
    "parameterTuning_InfoGain_undersample = ParameterTuning(decisionTreeCriterion=\"entropy\",\n",
    "                                            X_train=X_undersample_train,\n",
    "                                            X_test=X_test,\n",
    "                                            y_train=y_undersample_train,\n",
    "                                            y_test=y_test)\n",
    "\n",
    "infogain_best_max_depth_undersample = parameterTuning_InfoGain_undersample.get_best_max_depth(30)\n",
    "infogain_best_max_depth_undersample = ParameterTuning.list_only_parameters(infogain_best_max_depth_undersample)\n",
    "\n",
    "infogain_best_min_samples_split_undersample_1 = parameterTuning_InfoGain_undersample.get_best_min_samples_split()\n",
    "infogain_best_min_samples_split_undersample_2 = parameterTuning_InfoGain_undersample.get_best_min_samples_split(20)\n",
    "infogain_best_min_samples_split_undersample = ParameterTuning.get_best_result(infogain_best_min_samples_split_undersample_1, infogain_best_min_samples_split_undersample_2)\n",
    "\n",
    "infogain_best_min_samples_leaf_undersample_1 = parameterTuning_InfoGain_undersample.get_best_min_samples_leaf()\n",
    "infogain_best_min_samples_leaf_undersample_2 = parameterTuning_InfoGain_undersample.get_best_min_samples_leaf(20)\n",
    "infogain_best_min_samples_leaf_undersample = ParameterTuning.get_best_result(infogain_best_min_samples_leaf_undersample_1, infogain_best_min_samples_leaf_undersample_2)"
   ]
  },
  {
   "cell_type": "code",
   "execution_count": null,
   "metadata": {},
   "outputs": [],
   "source": [
    "parameterTuning_Gini_undersample = ParameterTuning(decisionTreeCriterion=\"gini\",\n",
    "                                            X_train=X_undersample_train,\n",
    "                                            X_test=X_test,\n",
    "                                            y_train=y_undersample_train,\n",
    "                                            y_test=y_test)\n",
    "\n",
    "gini_best_max_depth_undersample = parameterTuning_Gini_undersample.get_best_max_depth(30)\n",
    "gini_best_max_depth_undersample = ParameterTuning.list_only_parameters(gini_best_max_depth_undersample)\n",
    "\n",
    "gini_best_min_samples_split_undersample_1 = parameterTuning_Gini_undersample.get_best_min_samples_split()\n",
    "gini_best_min_samples_split_undersample_2 = parameterTuning_Gini_undersample.get_best_min_samples_split(20)\n",
    "gini_best_min_samples_split_undersample = ParameterTuning.get_best_result(gini_best_min_samples_split_undersample_1, gini_best_min_samples_split_undersample_2)\n",
    "\n",
    "gini_best_min_samples_leaf_undersample_1 = parameterTuning_Gini_undersample.get_best_min_samples_leaf()\n",
    "gini_best_min_samples_leaf_undersample_2 = parameterTuning_Gini_undersample.get_best_min_samples_leaf(20)\n",
    "gini_best_min_samples_leaf_undersample = ParameterTuning.get_best_result(gini_best_min_samples_leaf_undersample_1, gini_best_min_samples_leaf_undersample_2)"
   ]
  },
  {
   "cell_type": "markdown",
   "metadata": {},
   "source": [
    "### oversample"
   ]
  },
  {
   "cell_type": "code",
   "execution_count": null,
   "metadata": {},
   "outputs": [],
   "source": [
    "parameterTuning_InfoGain_over = ParameterTuning(decisionTreeCriterion=\"entropy\",\n",
    "                                            X_train=X_oversample_train,\n",
    "                                            X_test=X_test,\n",
    "                                            y_train=y_oversample_train,\n",
    "                                            y_test=y_test)\n",
    "\n",
    "infogain_best_max_depth_oversample = parameterTuning_InfoGain_over.get_best_max_depth(30)\n",
    "infogain_best_max_depth_oversample = ParameterTuning.list_only_parameters(infogain_best_max_depth_oversample)\n",
    "\n",
    "infogain_best_min_samples_split_oversample_1 = parameterTuning_InfoGain_over.get_best_min_samples_split()\n",
    "infogain_best_min_samples_split_oversample_2 = parameterTuning_InfoGain_over.get_best_min_samples_split(20)\n",
    "infogain_best_min_samples_split_oversample = ParameterTuning.get_best_result(infogain_best_min_samples_split_oversample_1, infogain_best_min_samples_split_oversample_2)\n",
    "\n",
    "infogain_best_min_samples_leaf_oversample_1 = parameterTuning_InfoGain_over.get_best_min_samples_leaf()\n",
    "infogain_best_min_samples_leaf_oversample_2 = parameterTuning_InfoGain_over.get_best_min_samples_leaf(20)\n",
    "infogain_best_min_samples_leaf_oversample = ParameterTuning.get_best_result(infogain_best_min_samples_leaf_oversample_1, infogain_best_min_samples_leaf_oversample_2)"
   ]
  },
  {
   "cell_type": "code",
   "execution_count": null,
   "metadata": {},
   "outputs": [],
   "source": [
    "parameterTuning_Gini_oversample = ParameterTuning(decisionTreeCriterion=\"gini\",\n",
    "                                            X_train=X_oversample_train,\n",
    "                                            X_test=X_test,\n",
    "                                            y_train=y_oversample_train,\n",
    "                                            y_test=y_test)\n",
    "\n",
    "gini_best_max_depth_oversample = parameterTuning_Gini_oversample.get_best_max_depth(30)\n",
    "gini_best_max_depth_oversample = ParameterTuning.list_only_parameters(gini_best_max_depth_oversample)\n",
    "\n",
    "gini_best_min_samples_split_oversample_1 = parameterTuning_Gini_oversample.get_best_min_samples_split()\n",
    "gini_best_min_samples_split_oversample_2 = parameterTuning_Gini_oversample.get_best_min_samples_split(20)\n",
    "gini_best_min_samples_split_oversample = ParameterTuning.get_best_result(gini_best_min_samples_split_oversample_1, gini_best_min_samples_split_oversample_2)\n",
    "\n",
    "gini_best_min_samples_leaf_oversample_1 = parameterTuning_Gini_oversample.get_best_min_samples_leaf()\n",
    "gini_best_min_samples_leaf_oversample_2 = parameterTuning_Gini_oversample.get_best_min_samples_leaf(20)\n",
    "gini_best_min_samples_leaf_oversample = ParameterTuning.get_best_result(gini_best_min_samples_leaf_oversample_1, gini_best_min_samples_leaf_oversample_2)\n"
   ]
  },
  {
   "cell_type": "markdown",
   "metadata": {},
   "source": [
    "### smote"
   ]
  },
  {
   "cell_type": "code",
   "execution_count": null,
   "metadata": {},
   "outputs": [],
   "source": [
    "parameterTuning_InfoGain_smote = ParameterTuning(decisionTreeCriterion=\"entropy\",\n",
    "                                            X_train=X_smote_train,\n",
    "                                            X_test=X_test,\n",
    "                                            y_train=y_smote_train,\n",
    "                                            y_test=y_test)\n",
    "\n",
    "infogain_best_max_depth_smote = parameterTuning_InfoGain_smote.get_best_max_depth(30)\n",
    "infogain_best_max_depth_smote = ParameterTuning.list_only_parameters(infogain_best_max_depth_smote)\n",
    "\n",
    "infogain_best_min_samples_split_smote_1 = parameterTuning_InfoGain_smote.get_best_min_samples_split()\n",
    "infogain_best_min_samples_split_smote_2 = parameterTuning_InfoGain_smote.get_best_min_samples_split(20)\n",
    "infogain_best_min_samples_split_smote = ParameterTuning.get_best_result(infogain_best_min_samples_split_smote_1, infogain_best_min_samples_split_smote_2)\n",
    "\n",
    "infogain_best_min_samples_leaf_smote_1 = parameterTuning_InfoGain_smote.get_best_min_samples_leaf()\n",
    "infogain_best_min_samples_leaf_smote_2 = parameterTuning_InfoGain_smote.get_best_min_samples_leaf(20)\n",
    "infogain_best_min_samples_leaf_smote = ParameterTuning.get_best_result(infogain_best_min_samples_leaf_smote_1, infogain_best_min_samples_leaf_smote_2)"
   ]
  },
  {
   "cell_type": "code",
   "execution_count": null,
   "metadata": {},
   "outputs": [],
   "source": [
    "parameterTuning_Gini_smote = ParameterTuning(decisionTreeCriterion=\"gini\",\n",
    "                                            X_train=X_smote_train,\n",
    "                                            X_test=X_test,\n",
    "                                            y_train=y_smote_train,\n",
    "                                            y_test=y_test)\n",
    "\n",
    "gini_best_max_depth_smote = parameterTuning_Gini_smote.get_best_max_depth(30)\n",
    "gini_best_max_depth_smote = ParameterTuning.list_only_parameters(gini_best_max_depth_smote)\n",
    "\n",
    "gini_best_min_samples_split_smote_1 = parameterTuning_Gini_smote.get_best_min_samples_split()\n",
    "gini_best_min_samples_split_smote_2 = parameterTuning_Gini_smote.get_best_min_samples_split(20)\n",
    "gini_best_min_samples_split_smote = ParameterTuning.get_best_result(gini_best_min_samples_split_smote_1, gini_best_min_samples_split_smote_2)\n",
    "\n",
    "gini_best_min_samples_leaf_smote_1 = parameterTuning_Gini_smote.get_best_min_samples_leaf()\n",
    "gini_best_min_samples_leaf_smote_2 = parameterTuning_Gini_smote.get_best_min_samples_leaf(20)\n",
    "gini_best_min_samples_leaf_smote = ParameterTuning.get_best_result(gini_best_min_samples_leaf_smote_1, gini_best_min_samples_leaf_smote_2)"
   ]
  },
  {
   "cell_type": "markdown",
   "metadata": {},
   "source": [
    "# GridSearchCV para DecisionTree"
   ]
  },
  {
   "cell_type": "markdown",
   "metadata": {},
   "source": [
    "#### Tomamos los mejores 5 resultados para cada parámetro"
   ]
  },
  {
   "cell_type": "code",
   "execution_count": null,
   "metadata": {},
   "outputs": [],
   "source": [
    "#Creating a dictionary grid for grid search\n",
    "param_grid_baseline_gini = {'criterion': ['gini'],\n",
    "              'max_depth': gini_best_max_depth_baseline[:5],\n",
    "              'min_samples_split': gini_best_min_samples_split_baseline[:5],\n",
    "              'min_samples_leaf': gini_best_min_samples_leaf_baseline[:5]}\n",
    "\n",
    "param_grid_baseline_infogain = {'criterion': ['entropy'],\n",
    "              'max_depth': infogain_best_max_depth_baseline[:5],\n",
    "              'min_samples_split': infogain_best_min_samples_split_baseline[:5],\n",
    "              'min_samples_leaf': infogain_best_min_samples_leaf_baseline[:5]}"
   ]
  },
  {
   "cell_type": "code",
   "execution_count": null,
   "metadata": {},
   "outputs": [],
   "source": [
    "#Creating a dictionary grid for grid search\n",
    "param_grid_undersample_gini = {'criterion': ['gini'],\n",
    "              'max_depth': gini_best_max_depth_undersample[:5],\n",
    "              'min_samples_split': gini_best_min_samples_split_undersample[:5],\n",
    "              'min_samples_leaf': gini_best_min_samples_leaf_undersample[:5]}\n",
    "\n",
    "param_grid_undersample_infogain = {'criterion': ['entropy'],\n",
    "              'max_depth': infogain_best_max_depth_undersample[:5],\n",
    "              'min_samples_split': infogain_best_min_samples_split_undersample[:5],\n",
    "              'min_samples_leaf': infogain_best_min_samples_leaf_undersample[:5]}"
   ]
  },
  {
   "cell_type": "code",
   "execution_count": null,
   "metadata": {},
   "outputs": [],
   "source": [
    "#Creating a dictionary grid for grid search\n",
    "param_grid_oversample_gini = {'criterion': ['gini'],\n",
    "              'max_depth': gini_best_max_depth_oversample[:5],\n",
    "              'min_samples_split': gini_best_min_samples_split_oversample[:5],\n",
    "              'min_samples_leaf': gini_best_min_samples_leaf_oversample[:5]}\n",
    "\n",
    "param_grid_oversample_infogain = {'criterion': ['entropy'],\n",
    "              'max_depth': infogain_best_max_depth_oversample[:5],\n",
    "              'min_samples_split': infogain_best_min_samples_split_oversample[:5],\n",
    "              'min_samples_leaf': infogain_best_min_samples_leaf_oversample[:5]}"
   ]
  },
  {
   "cell_type": "code",
   "execution_count": null,
   "metadata": {},
   "outputs": [],
   "source": [
    "#Creating a dictionary grid for grid search\n",
    "param_grid_smote_gini = {'criterion': ['gini'],\n",
    "              'max_depth': gini_best_max_depth_smote[:5],\n",
    "              'min_samples_split': gini_best_min_samples_split_smote[:5],\n",
    "              'min_samples_leaf': gini_best_min_samples_leaf_smote[:5]}\n",
    "\n",
    "param_grid_smote_infogain = {'criterion': ['entropy'],\n",
    "              'max_depth': infogain_best_max_depth_smote[:5],\n",
    "              'min_samples_split': infogain_best_min_samples_split_smote[:5],\n",
    "              'min_samples_leaf': infogain_best_min_samples_leaf_smote[:5]}"
   ]
  },
  {
   "cell_type": "code",
   "execution_count": null,
   "metadata": {},
   "outputs": [],
   "source": [
    "def TrainGridSearchDTC(param_grid, X_train, y_train):\n",
    "    #Fitting grid search to the train data with 3 folds\n",
    "    gridsearch_dt = GridSearchCV(estimator= DecisionTreeClassifier(), \n",
    "                          param_grid= param_grid,\n",
    "                          cv=2, \n",
    "                          n_jobs=-1, \n",
    "                          scoring='roc_auc', \n",
    "                          verbose=2)\n",
    "    inicio = time.time()\n",
    "    gridsearch_dt.fit(X_train, y_train)\n",
    "    fin = time.time()\n",
    "    print(\"Tiempo total (min): {}\".format((fin-inicio)/60))\n",
    "    return gridsearch_dt"
   ]
  },
  {
   "cell_type": "markdown",
   "metadata": {},
   "source": [
    "### Best Params Baseline"
   ]
  },
  {
   "cell_type": "code",
   "execution_count": null,
   "metadata": {},
   "outputs": [],
   "source": [
    "gridsearch_gini_baseline = TrainGridSearchDTC(param_grid_baseline_gini, X_train, y_train)\n",
    "print(gridsearch_gini_baseline.best_params_)\n",
    "print(gridsearch_gini_baseline.best_score_)"
   ]
  },
  {
   "cell_type": "code",
   "execution_count": null,
   "metadata": {},
   "outputs": [],
   "source": [
    "gridsearch_infogain_baseline = TrainGridSearchDTC(param_grid_baseline_infogain, X_train, y_train)\n",
    "print(gridsearch_infogain_baseline.best_params_)\n",
    "print(gridsearch_infogain_baseline.best_score_)"
   ]
  },
  {
   "cell_type": "markdown",
   "metadata": {},
   "source": [
    "### Best Params undersample"
   ]
  },
  {
   "cell_type": "code",
   "execution_count": null,
   "metadata": {},
   "outputs": [],
   "source": [
    "gridsearch_gini_undersample = TrainGridSearchDTC(param_grid_undersample_gini, X_undersample_train, y_undersample_train)\n",
    "print(\"Best params: \", gridsearch_gini_undersample.best_params_)\n",
    "print(\"score: \",gridsearch_gini_undersample.best_score_)"
   ]
  },
  {
   "cell_type": "code",
   "execution_count": null,
   "metadata": {},
   "outputs": [],
   "source": [
    "gridsearch_infogain_undersample = TrainGridSearchDTC(param_grid_undersample_infogain, X_undersample_train, y_undersample_train)\n",
    "print(gridsearch_infogain_undersample.best_params_)\n",
    "print(gridsearch_infogain_undersample.best_score_)"
   ]
  },
  {
   "cell_type": "markdown",
   "metadata": {},
   "source": [
    "### Best Params oversample"
   ]
  },
  {
   "cell_type": "code",
   "execution_count": null,
   "metadata": {},
   "outputs": [],
   "source": [
    "gridsearch_gini_oversample = TrainGridSearchDTC(param_grid_oversample_gini, X_oversample_train, y_oversample_train)\n",
    "print(gridsearch_gini_oversample.best_params_)\n",
    "print(gridsearch_gini_oversample.best_score_)"
   ]
  },
  {
   "cell_type": "code",
   "execution_count": null,
   "metadata": {},
   "outputs": [],
   "source": [
    "gridsearch_infogain_oversample = TrainGridSearchDTC(param_grid_oversample_infogain, X_oversample_train, y_oversample_train)\n",
    "print(gridsearch_infogain_oversample.best_params_)\n",
    "print(gridsearch_infogain_oversample.best_score_)"
   ]
  },
  {
   "cell_type": "markdown",
   "metadata": {},
   "source": [
    "### Best Params smote"
   ]
  },
  {
   "cell_type": "code",
   "execution_count": null,
   "metadata": {},
   "outputs": [],
   "source": [
    "gridsearch_gini_smote = TrainGridSearchDTC(param_grid_smote_gini, X_smote_train, y_smote_train)\n",
    "print(gridsearch_gini_smote.best_params_)\n",
    "print(gridsearch_gini_smote.best_score_)"
   ]
  },
  {
   "cell_type": "code",
   "execution_count": null,
   "metadata": {},
   "outputs": [],
   "source": [
    "gridsearch_infogain_smote = TrainGridSearchDTC(param_grid_smote_infogain, X_smote_train, y_smote_train)\n",
    "print(gridsearch_infogain_smote.best_params_)\n",
    "print(gridsearch_infogain_smote.best_score_)"
   ]
  },
  {
   "cell_type": "markdown",
   "metadata": {
    "tags": []
   },
   "source": [
    "# Comparador de modelos DT (Gini)"
   ]
  },
  {
   "cell_type": "code",
   "execution_count": null,
   "metadata": {},
   "outputs": [],
   "source": [
    "dtGini = GiniDecisionTree(\n",
    "                          X_train=X_train, \n",
    "                          X_test=X_test, \n",
    "                          y_train=y_train, \n",
    "                          y_test=y_test, \n",
    "                          target=[0,1],\n",
    "                          desc=\"desbalanceado\")\n",
    "dtGini.train()\n",
    "\n",
    "dtGini_bestparams = GiniDecisionTree(\n",
    "                          X_train=X_train, \n",
    "                          X_test=X_test, \n",
    "                          y_train=y_train, \n",
    "                          y_test=y_test, \n",
    "                          target=[0,1],\n",
    "                          max_depth=gridsearch_gini_baseline.best_params_['max_depth'],\n",
    "                          min_samples_split=gridsearch_gini_baseline.best_params_['min_samples_split'],\n",
    "                          min_samples_leaf=gridsearch_gini_baseline.best_params_['min_samples_leaf'],\n",
    "                          desc=\"desbalanceado-bp\")\n",
    "dtGini_bestparams.train()\n",
    "\n",
    "dtGini_undersample = GiniDecisionTree(\n",
    "                                      X_train=X_undersample_train, \n",
    "                                      X_test=X_test, # Para testear debe ser sobre el dataset original\n",
    "                                      y_train=y_undersample_train, \n",
    "                                      y_test=y_test, # Para testear debe ser sobre el dataset original\n",
    "                                      target=[0,1],\n",
    "                                      desc=\"undersample\")\n",
    "dtGini_undersample.train()\n",
    "\n",
    "dtGini_undersample_bestparams = GiniDecisionTree(\n",
    "                                      X_train=X_undersample_train, \n",
    "                                      X_test=X_test, # Para testear debe ser sobre el dataset original\n",
    "                                      y_train=y_undersample_train, \n",
    "                                      y_test=y_test, # Para testear debe ser sobre el dataset original\n",
    "                                      target=[0,1],\n",
    "                                      max_depth=gridsearch_gini_undersample.best_params_['max_depth'],\n",
    "                                      min_samples_split=gridsearch_gini_undersample.best_params_['min_samples_split'],\n",
    "                                      min_samples_leaf=gridsearch_gini_undersample.best_params_['min_samples_leaf'],\n",
    "                                      desc=\"undersample-bp\")\n",
    "dtGini_undersample_bestparams.train()\n",
    "\n",
    "dtGini_oversample = GiniDecisionTree( \n",
    "                                      X_train=X_oversample_train, \n",
    "                                      X_test=X_test, # Para testear debe ser sobre el dataset original\n",
    "                                      y_train=y_oversample_train, \n",
    "                                      y_test=y_test, # Para testear debe ser sobre el dataset original\n",
    "                                      target=[0,1],\n",
    "                                      desc=\"oversample\")\n",
    "dtGini_oversample.train()\n",
    "\n",
    "dtGini_oversample_bestparams = GiniDecisionTree( \n",
    "                                      X_train=X_oversample_train, \n",
    "                                      X_test=X_test, # Para testear debe ser sobre el dataset original\n",
    "                                      y_train=y_oversample_train, \n",
    "                                      y_test=y_test, # Para testear debe ser sobre el dataset original\n",
    "                                      target=[0,1],\n",
    "                                      max_depth=gridsearch_gini_oversample.best_params_['max_depth'],\n",
    "                                      min_samples_split=gridsearch_gini_oversample.best_params_['min_samples_split'],\n",
    "                                      min_samples_leaf=gridsearch_gini_oversample.best_params_['min_samples_leaf'],\n",
    "                                      desc=\"oversample-bp\")\n",
    "dtGini_oversample_bestparams.train()\n",
    "\n",
    "dtGini_smote = GiniDecisionTree(\n",
    "                                  X_train=X_smote_train, \n",
    "                                  X_test=X_test, # Para testear debe ser sobre el dataset original\n",
    "                                  y_train=y_smote_train, \n",
    "                                  y_test=y_test, # Para testear debe ser sobre el dataset original\n",
    "                                  target=[0,1],\n",
    "                                  desc=\"smote\")\n",
    "dtGini_smote.train()\n",
    "\n",
    "dtGini_smote_bestparams = GiniDecisionTree(\n",
    "                                  X_train=X_smote_train, \n",
    "                                  X_test=X_test, # Para testear debe ser sobre el dataset original\n",
    "                                  y_train=y_smote_train, \n",
    "                                  y_test=y_test, # Para testear debe ser sobre el dataset original\n",
    "                                  target=[0,1],\n",
    "                                  max_depth=gridsearch_gini_smote.best_params_['max_depth'],\n",
    "                                  min_samples_split=gridsearch_gini_smote.best_params_['min_samples_split'],\n",
    "                                  min_samples_leaf=gridsearch_gini_smote.best_params_['min_samples_leaf'],\n",
    "                                  desc=\"smote-bp\")\n",
    "dtGini_smote_bestparams.train()"
   ]
  },
  {
   "cell_type": "code",
   "execution_count": null,
   "metadata": {},
   "outputs": [],
   "source": [
    "models = [\n",
    "    dtGini, dtGini_bestparams, dtGini_undersample, dtGini_undersample_bestparams\n",
    "]\n",
    "\n",
    "comparator = Comparator(models)"
   ]
  },
  {
   "cell_type": "code",
   "execution_count": null,
   "metadata": {},
   "outputs": [],
   "source": [
    "comparator.auc()\n",
    "comparator.roc_curve()"
   ]
  },
  {
   "cell_type": "code",
   "execution_count": null,
   "metadata": {},
   "outputs": [],
   "source": [
    "models = [\n",
    "    dtGini_oversample, dtGini_oversample_bestparams,\n",
    "    dtGini_smote, dtGini_smote_bestparams\n",
    "]\n",
    "\n",
    "comparator = Comparator(models)"
   ]
  },
  {
   "cell_type": "code",
   "execution_count": null,
   "metadata": {},
   "outputs": [],
   "source": [
    "comparator.auc()\n",
    "comparator.roc_curve()"
   ]
  },
  {
   "cell_type": "markdown",
   "metadata": {},
   "source": [
    "## Mejor modelo para GINI"
   ]
  },
  {
   "cell_type": "code",
   "execution_count": null,
   "metadata": {},
   "outputs": [],
   "source": [
    "#Agregar mejor\n",
    "# models = [\n",
    "#     dtGini_oversample, dtGini_oversample_bestparams,\n",
    "#     dtGini_smote, dtGini_smote_bestparams, Agregar todos?\n",
    "# ]\n",
    "\n",
    "# comparator = Comparator(models)\n",
    "# comparator.best() -> que imprima AUC del mejor e imprima quién es"
   ]
  },
  {
   "cell_type": "markdown",
   "metadata": {},
   "source": [
    "# Comparador de modelos DT (Information Gain)"
   ]
  },
  {
   "cell_type": "code",
   "execution_count": null,
   "metadata": {},
   "outputs": [],
   "source": [
    "dtInfoGain = InformationGainDecisionTree(\n",
    "                                         X_train=X_train, \n",
    "                                         X_test=X_test, \n",
    "                                         y_train=y_train, \n",
    "                                         y_test=y_test, \n",
    "                                         target=[0,1],\n",
    "                                         desc=\"desbalanceado\")\n",
    "dtInfoGain.train()\n",
    "\n",
    "dtInfoGain_bestparams = InformationGainDecisionTree(\n",
    "                                                    X_train=X_train, \n",
    "                                                    X_test=X_test, \n",
    "                                                    y_train=y_train, \n",
    "                                                    y_test=y_test, \n",
    "                                                    target=[0,1],\n",
    "                                                    max_depth=gridsearch_infogain_baseline.best_params_['max_depth'],\n",
    "                                                    min_samples_split=gridsearch_infogain_baseline.best_params_['min_samples_split'],\n",
    "                                                    min_samples_leaf=gridsearch_infogain_baseline.best_params_['min_samples_leaf'],\n",
    "                                                    desc=\"desbalanceado-bp\")\n",
    "dtInfoGain_bestparams.train()\n",
    "\n",
    "dtInfoGain_undersample = InformationGainDecisionTree(\n",
    "                                      X_train=X_undersample_train, \n",
    "                                      X_test=X_test, # Para testear debe ser sobre el dataset original\n",
    "                                      y_train=y_undersample_train, \n",
    "                                      y_test=y_test, # Para testear debe ser sobre el dataset original\n",
    "                                      target=[0,1],\n",
    "                                      desc=\"undersample\")\n",
    "dtInfoGain_undersample.train()\n",
    "\n",
    "dtInfoGain_undersample_bestparams = InformationGainDecisionTree(\n",
    "                                      X_train=X_undersample_train, \n",
    "                                      X_test=X_test, # Para testear debe ser sobre el dataset original\n",
    "                                      y_train=y_undersample_train, \n",
    "                                      y_test=y_test, # Para testear debe ser sobre el dataset original\n",
    "                                      target=[0,1],\n",
    "                                      max_depth=gridsearch_infogain_undersample.best_params_['max_depth'],\n",
    "                                      min_samples_split=gridsearch_infogain_undersample.best_params_['min_samples_split'],\n",
    "                                      min_samples_leaf=gridsearch_infogain_undersample.best_params_['min_samples_leaf'],\n",
    "                                      desc=\"undersample\")\n",
    "dtInfoGain_undersample_bestparams.train()\n",
    "\n",
    "dtInfoGain_oversample = InformationGainDecisionTree( \n",
    "                                      X_train=X_oversample_train, \n",
    "                                      X_test=X_test, # Para testear debe ser sobre el dataset original\n",
    "                                      y_train=y_oversample_train, \n",
    "                                      y_test=y_test, # Para testear debe ser sobre el dataset original\n",
    "                                      target=[0,1],\n",
    "                                      desc=\"oversample\")\n",
    "dtInfoGain_oversample.train()\n",
    "\n",
    "dtInfoGain_oversample_bestparams = InformationGainDecisionTree(\n",
    "                                      X_train=X_oversample_train, \n",
    "                                      X_test=X_test, # Para testear debe ser sobre el dataset original\n",
    "                                      y_train=y_oversample_train, \n",
    "                                      y_test=y_test, # Para testear debe ser sobre el dataset original\n",
    "                                      target=[0,1],\n",
    "                                      max_depth=gridsearch_infogain_oversample.best_params_['max_depth'],\n",
    "                                      min_samples_split=gridsearch_infogain_oversample.best_params_['min_samples_split'],\n",
    "                                      min_samples_leaf=gridsearch_infogain_oversample.best_params_['min_samples_leaf'],\n",
    "                                      desc=\"oversample\")\n",
    "dtInfoGain_oversample_bestparams.train()\n",
    "\n",
    "dtInfoGain_smote = InformationGainDecisionTree(\n",
    "                                  X_train=X_smote_train, \n",
    "                                  X_test=X_test, # Para testear debe ser sobre el dataset original\n",
    "                                  y_train=y_smote_train, \n",
    "                                  y_test=y_test, # Para testear debe ser sobre el dataset original\n",
    "                                  target=[0,1],\n",
    "                                  desc=\"smote\")\n",
    "dtInfoGain_smote.train()\n",
    "\n",
    "dtInfoGain_smote_bestparams = InformationGainDecisionTree(\n",
    "                                  X_train=X_smote_train, \n",
    "                                  X_test=X_test, # Para testear debe ser sobre el dataset original\n",
    "                                  y_train=y_smote_train, \n",
    "                                  y_test=y_test, # Para testear debe ser sobre el dataset original\n",
    "                                  target=[0,1],\n",
    "                                  max_depth=gridsearch_infogain_smote.best_params_['max_depth'],\n",
    "                                  min_samples_split=gridsearch_infogain_smote.best_params_['min_samples_split'],\n",
    "                                  min_samples_leaf=gridsearch_infogain_smote.best_params_['min_samples_leaf'],\n",
    "                                  desc=\"smote\")\n",
    "dtInfoGain_smote_bestparams.train()"
   ]
  },
  {
   "cell_type": "code",
   "execution_count": null,
   "metadata": {},
   "outputs": [],
   "source": [
    "models = [\n",
    "    dtInfoGain, dtInfoGain_undersample, \n",
    "    dtInfoGain_bestparams, dtInfoGain_undersample_bestparams\n",
    "]\n",
    "\n",
    "comparator = Comparator(models)"
   ]
  },
  {
   "cell_type": "code",
   "execution_count": null,
   "metadata": {},
   "outputs": [],
   "source": [
    "comparator.auc()\n",
    "comparator.roc_curve()"
   ]
  },
  {
   "cell_type": "code",
   "execution_count": null,
   "metadata": {},
   "outputs": [],
   "source": [
    "models = [\n",
    "    dtInfoGain_oversample, dtInfoGain_smote,\n",
    "    dtInfoGain_oversample_bestparams, dtInfoGain_smote_bestparams\n",
    "]\n",
    "\n",
    "comparator = Comparator(models)"
   ]
  },
  {
   "cell_type": "code",
   "execution_count": null,
   "metadata": {},
   "outputs": [],
   "source": [
    "comparator.auc()\n",
    "comparator.roc_curve()"
   ]
  },
  {
   "cell_type": "markdown",
   "metadata": {},
   "source": [
    "## Mejor modelo para Information Gain"
   ]
  },
  {
   "cell_type": "code",
   "execution_count": null,
   "metadata": {},
   "outputs": [],
   "source": [
    "#Agregar mejor"
   ]
  },
  {
   "cell_type": "code",
   "execution_count": null,
   "metadata": {},
   "outputs": [],
   "source": [
    "fin_final_dt = time.time()\n",
    "print(\"Tiempo total (min): {}\\n\".format(round((fin_final_dt-inicio_ppio)/60, 2)))"
   ]
  },
  {
   "cell_type": "markdown",
   "metadata": {
    "tags": []
   },
   "source": [
    "# Redes Neuronales"
   ]
  },
  {
   "cell_type": "markdown",
   "metadata": {},
   "source": [
    "## Entreno Red Neuronal"
   ]
  },
  {
   "cell_type": "code",
   "execution_count": null,
   "metadata": {},
   "outputs": [],
   "source": [
    "nn = LBFGSNeuralNetwork(X=X,\n",
    "                        y=y,\n",
    "                        X_train=X_train, \n",
    "                        X_test=X_test, \n",
    "                        y_train=y_train, \n",
    "                        y_test=y_test, \n",
    "                        alpha=1e-5, \n",
    "                        hidden_layer_sizes=(15,), \n",
    "                        max_iter=200)\n",
    "nn.train()"
   ]
  },
  {
   "cell_type": "markdown",
   "metadata": {},
   "source": [
    "### Medidas de Performance"
   ]
  },
  {
   "cell_type": "markdown",
   "metadata": {},
   "source": [
    "#### Matriz de Confusion"
   ]
  },
  {
   "cell_type": "code",
   "execution_count": null,
   "metadata": {},
   "outputs": [],
   "source": [
    "nn.show_confusion_matrix()"
   ]
  },
  {
   "cell_type": "markdown",
   "metadata": {},
   "source": [
    "#### Reporte"
   ]
  },
  {
   "cell_type": "code",
   "execution_count": null,
   "metadata": {},
   "outputs": [],
   "source": [
    "nn.show_classification_report()"
   ]
  },
  {
   "cell_type": "markdown",
   "metadata": {},
   "source": [
    "#### Accuracy"
   ]
  },
  {
   "cell_type": "code",
   "execution_count": null,
   "metadata": {},
   "outputs": [],
   "source": [
    "nn.accuracy()"
   ]
  },
  {
   "cell_type": "markdown",
   "metadata": {},
   "source": [
    "#### Recall"
   ]
  },
  {
   "cell_type": "code",
   "execution_count": null,
   "metadata": {
    "scrolled": true
   },
   "outputs": [],
   "source": [
    "nn.recall()"
   ]
  },
  {
   "cell_type": "markdown",
   "metadata": {},
   "source": [
    "#### Precision"
   ]
  },
  {
   "cell_type": "code",
   "execution_count": null,
   "metadata": {
    "scrolled": true
   },
   "outputs": [],
   "source": [
    "nn.precision_score()"
   ]
  },
  {
   "cell_type": "markdown",
   "metadata": {},
   "source": [
    "# GridSearchCV para NN"
   ]
  },
  {
   "cell_type": "code",
   "execution_count": null,
   "metadata": {},
   "outputs": [],
   "source": [
    "#Creating a dictionary grid for grid search\n",
    "param_grid = {\n",
    "    'hidden_layer_sizes': [(20,), (20,20), (40,)],\n",
    "    'activation': ['tanh', 'relu'],\n",
    "    'solver': ['adam'],\n",
    "    'alpha': [0.0001, 0.05, 0.5]\n",
    "}\n",
    "\n",
    "mlp = MLPClassifier(max_iter=200)"
   ]
  },
  {
   "cell_type": "code",
   "execution_count": null,
   "metadata": {},
   "outputs": [],
   "source": [
    "#Fitting grid search to the train data with 5 folds\n",
    "gridsearchNN = GridSearchCV(estimator= mlp, \n",
    "                          param_grid= param_grid,\n",
    "                          cv=2, \n",
    "                          n_jobs=-1,  \n",
    "                          verbose=2,\n",
    "                          scoring=\"roc_auc\")\n",
    "\n",
    "inicio = time.time()\n",
    "gridsearchNN.fit(X_train, y_train.to_numpy().ravel())\n",
    "fin = time.time()\n",
    "\n",
    "joblib.dump(gridsearchNN, 'gridsearchNN.joblib')"
   ]
  },
  {
   "cell_type": "code",
   "execution_count": null,
   "metadata": {},
   "outputs": [],
   "source": [
    "print(\"Tiempo total (min): {}\".format((fin-inicio)/60))"
   ]
  }
 ],
 "metadata": {
  "colab": {
   "collapsed_sections": [],
   "name": "TP.ipynb",
   "provenance": []
  },
  "kernelspec": {
   "display_name": "Python 3 (ipykernel)",
   "language": "python",
   "name": "python3"
  },
  "language_info": {
   "codemirror_mode": {
    "name": "ipython",
    "version": 3
   },
   "file_extension": ".py",
   "mimetype": "text/x-python",
   "name": "python",
   "nbconvert_exporter": "python",
   "pygments_lexer": "ipython3",
   "version": "3.9.13"
  }
 },
 "nbformat": 4,
 "nbformat_minor": 4
}
